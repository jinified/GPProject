{
 "cells": [
  {
   "cell_type": "code",
   "execution_count": 2,
   "metadata": {
    "collapsed": false
   },
   "outputs": [
    {
     "name": "stdout",
     "output_type": "stream",
     "text": [
      "Populating the interactive namespace from numpy and matplotlib\n"
     ]
    }
   ],
   "source": [
    "%pylab inline\n",
    "import math\n",
    "import numpy as np\n",
    "import scipy as sp\n",
    "from scipy import stats\n",
    "import pylab as pb\n",
    "import GPy\n",
    "import matplotlib.pyplot as plt\n",
    "from IPython.core.debugger import Tracer"
   ]
  },
  {
   "cell_type": "code",
   "execution_count": null,
   "metadata": {
    "collapsed": false
   },
   "outputs": [],
   "source": [
    "psa_pop = {str(i[0]): i[1] for i in np.genfromtxt('../data/info/PSA_processed.csv', delimiter=',')}\n",
    "weekly_theft_count = {str(i[0]): i[1] for i in np.genfromtxt('../data/processed/train/weekonly_theft.csv', delimiter=',')}\n",
    "train_theft = np.genfromtxt('../data/processed/train/week_theft.csv', delimiter=',')\n",
    "train_theft_dict = {str(i[1])+str(i[0]): i[2] for i in train_theft}\n",
    "# Training input\n",
    "time_train =train_theft[:, 0].ravel()\n",
    "space_train = train_theft[:, 1].ravel()\n",
    "space_grid, time_grid = np.meshgrid(np.unique(space_train), np.unique(time_train))\n",
    "X_train = np.vstack([space_grid.ravel(), time_grid.ravel()]).T\n",
    "# Training output\n",
    "intensity_train = np.array([[train_theft_dict.get('{}{}'.format(*i), 0) for i in X_train]]).T\n",
    "log_es = np.array([[math.log(weekly_theft_count[str(i[1])] * psa_pop[str(i[0])]) for i in X_train]]).T\n",
    "truth_lamda = np.exp(intensity_train + log_es)\n",
    "truth_lamda_grid = truth_lamda.reshape(len(weekly_theft_count.keys()), len(psa_pop.keys()))\n",
    "Y_train = np.array([[np.random.poisson(i) for i in truth_lamda]]).T"
   ]
  },
  {
   "cell_type": "code",
   "execution_count": null,
   "metadata": {
    "collapsed": true
   },
   "outputs": [],
   "source": [
    "# Make a kernel for the space_time effect, f\n",
    "kern_f = GPy.kern.RBF(2, active_dims=[0,1], name='space_time_kern')\n",
    "# Make a kernel for the spatial only effect (which is in log space)\n",
    "kern_s_effect = GPy.kern.RBF(1, active_dims=[0], name='space_effect')"
   ]
  },
  {
   "cell_type": "code",
   "execution_count": null,
   "metadata": {
    "collapsed": false
   },
   "outputs": [],
   "source": [
    "t_distribution = GPy.likelihoods.StudentT(deg_free=4, sigma2=1)\n",
    "laplace_inf = GPy.inference.latent_function_inference.Laplace()\n",
    "full_kern = kern_f + kern_s_effect\n",
    "m = GPy.core.GP(X=X_train, Y=Y_train, kernel=full_kern, likelihood=t_distribution, inference_method=inference_metho)"
   ]
  },
  {
   "cell_type": "code",
   "execution_count": null,
   "metadata": {
    "collapsed": false
   },
   "outputs": [],
   "source": [
    "print(m)"
   ]
  },
  {
   "cell_type": "code",
   "execution_count": null,
   "metadata": {
    "collapsed": true
   },
   "outputs": [],
   "source": []
  }
 ],
 "metadata": {
  "kernelspec": {
   "display_name": "Python 3",
   "language": "python",
   "name": "python3"
  },
  "language_info": {
   "codemirror_mode": {
    "name": "ipython",
    "version": 3
   },
   "file_extension": ".py",
   "mimetype": "text/x-python",
   "name": "python",
   "nbconvert_exporter": "python",
   "pygments_lexer": "ipython3",
   "version": "3.5.2"
  }
 },
 "nbformat": 4,
 "nbformat_minor": 1
}
