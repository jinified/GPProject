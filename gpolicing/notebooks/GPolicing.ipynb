{
 "cells": [
  {
   "cell_type": "code",
   "execution_count": 1,
   "metadata": {
    "collapsed": false
   },
   "outputs": [
    {
     "name": "stdout",
     "output_type": "stream",
     "text": [
      "Populating the interactive namespace from numpy and matplotlib\n"
     ]
    }
   ],
   "source": [
    "%pylab inline\n",
    "import math\n",
    "import numpy as np\n",
    "import scipy as sp\n",
    "from scipy import stats\n",
    "import pylab as pb\n",
    "import GPy"
   ]
  },
  {
   "cell_type": "code",
   "execution_count": 2,
   "metadata": {
    "collapsed": false
   },
   "outputs": [],
   "source": [
    "psa_pop = {str(i[0]): i[1] for i in np.genfromtxt('../data/info/PSA_processed.csv', delimiter=',')}\n",
    "weekly_theft_count = {str(i[0]): i[1] for i in np.genfromtxt('../data/train/week_theft_count_3m.csv', delimiter=',')}\n",
    "avg_weekly_count = np.mean(list(weekly_theft_count.values()))\n",
    "train_theft = np.genfromtxt('../data/train/week_theft_in_3m.csv', delimiter=',')\n",
    "train_theft_dict = {str(i[1])+str(i[0]): i[2] for i in train_theft}\n",
    "# Training input\n",
    "time_train =train_theft[:, 0].ravel()\n",
    "space_train = train_theft[:, 1].ravel()\n",
    "space_grid, time_grid = np.meshgrid(np.unique(space_train), np.unique(time_train))\n",
    "X_train = np.vstack([space_grid.ravel(), time_grid.ravel()]).T\n",
    "# Training output\n",
    "intensity_train = np.array([[math.log(train_theft_dict.get('{}{}'.format(*i), 0.000001)) for i in X_train]]).T\n",
    "log_es = np.array([[math.log(avg_weekly_count * psa_pop[str(i[0])]) for i in X_train]]).T\n",
    "truth_lamda = np.exp(intensity_train + log_es)\n",
    "truth_lamda_grid = truth_lamda.reshape(len(weekly_theft_count.keys()), len(psa_pop.keys()))\n",
    "Y_train = np.array([[sp.stats.poisson.rvs(i) for i in truth_lamda]]).T\n"
   ]
  },
  {
   "cell_type": "code",
   "execution_count": 3,
   "metadata": {
    "collapsed": false
   },
   "outputs": [],
   "source": [
    "# Make a kernel for the spatial only effect (which is in log space)\n",
    "kern_s = GPy.kern.Matern32(1, active_dims=[0], name='space_effect')\n",
    "kern_t = GPy.kern.RBF(1, active_dims=[1], name='time_effect')\n",
    "kern_p = GPy.kern.PeriodicExponential(1, active_dims=[1], period=52.0, name='periodic_effect')\n",
    "# Make a kernel for the space_time effect, f\n",
    "kern_st = kern_s * kern_t\n",
    "full_kern = kern_s + kern_t + kern_st"
   ]
  },
  {
   "cell_type": "code",
   "execution_count": 4,
   "metadata": {
    "collapsed": false,
    "scrolled": true
   },
   "outputs": [],
   "source": [
    "likelihood_func = GPy.likelihoods.Poisson()\n",
    "laplace_inf = GPy.inference.latent_function_inference.Laplace()\n",
    "m = GPy.core.GP(X=X_train, Y=Y_train, kernel=full_kern, likelihood=likelihood_func, inference_method=laplace_inf)"
   ]
  },
  {
   "cell_type": "code",
   "execution_count": 9,
   "metadata": {
    "collapsed": false,
    "scrolled": true
   },
   "outputs": [],
   "source": [
    "# Testing\n",
    "test_theft = np.genfromtxt('../data/test/week_theft_in_test1m.csv', delimiter=',')\n",
    "test_theft_dict = {str(i[1])+str(i[0]): i[2] for i in test_theft}\n",
    "# Training input\n",
    "time_test =test_theft[:, 0].ravel()\n",
    "space_test = test_theft[:, 1].ravel()\n",
    "space_grid_test, time_grid_test = np.meshgrid(np.unique(space_test), np.unique(time_test))\n",
    "X_test = np.vstack([space_grid_test.ravel(), time_grid_test.ravel()]).T\n",
    "intensity_test = np.array([[train_theft_dict.get('{}{}'.format(*i), 0.000001) for i in X_test]]).T\n",
    "pred_mean, pred_variance = m._raw_predict(X_test)\n",
    "m.predict?"
   ]
  },
  {
   "cell_type": "code",
   "execution_count": null,
   "metadata": {
    "collapsed": false
   },
   "outputs": [],
   "source": []
  },
  {
   "cell_type": "code",
   "execution_count": null,
   "metadata": {
    "collapsed": true
   },
   "outputs": [],
   "source": []
  }
 ],
 "metadata": {
  "kernelspec": {
   "display_name": "Python 3",
   "language": "python",
   "name": "python3"
  },
  "language_info": {
   "codemirror_mode": {
    "name": "ipython",
    "version": 3
   },
   "file_extension": ".py",
   "mimetype": "text/x-python",
   "name": "python",
   "nbconvert_exporter": "python",
   "pygments_lexer": "ipython3",
   "version": "3.5.2"
  }
 },
 "nbformat": 4,
 "nbformat_minor": 1
}
