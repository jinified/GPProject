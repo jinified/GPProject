{
 "cells": [
  {
   "cell_type": "code",
   "execution_count": 2,
   "metadata": {
    "collapsed": false
   },
   "outputs": [],
   "source": [
    "#imports and helper functions\n",
    "import GPy\n",
    "import matplotlib.pyplot as plt\n",
    "import numpy as np\n",
    "\n",
    "%matplotlib inline\n",
    "\n",
    "def plot_hist(bins,bin_ranges,errs,alpha):\n",
    "    \"\"\"Plots a histogram\"\"\"\n",
    "    assert len(bins)==(len(bin_ranges)-1)\n",
    "    yvals = bins/(np.diff(bin_ranges)[:,None])\n",
    "    evals = 1.96*errs/(np.diff(bin_ranges)[:,None]) #the error is in the area, which is 'spread'\n",
    "    plt.bar(bin_ranges[0:-1],yvals,np.diff(bin_ranges),lw=1,alpha=alpha,color='#ccccff')\n",
    "    midpoints = .5*(bin_ranges[0:-1] + bin_ranges[1:])\n",
    "    plt.errorbar(midpoints,yvals,evals,elinewidth=1,capthick=1,color='black',alpha=alpha,lw=0)\n",
    "    \n",
    "def histogram_data(age,height,weight,age_step,height_step):\n",
    "    inputs = []\n",
    "    simple_inputs = []\n",
    "    outputs = []\n",
    "    for a in np.arange(1.5,8.5,age_step):\n",
    "        for h in np.arange(70,125,height_step):\n",
    "            weights = weight[ (age>=a) & (age<a+age_step) & (height>=h) & (height < h+height_step) ]\n",
    "            if len(weights)>0:\n",
    "                inputs.append([a,a+age_step,h,h+height_step])\n",
    "                simple_inputs.append([a+(age_step/2.0),h+(height_step/2.0)])\n",
    "                outputs.append(np.mean(weights))\n",
    "    inputs = np.array(inputs)\n",
    "    simple_inputs = np.array(simple_inputs)\n",
    "\n",
    "    original_outputs = np.array(outputs)\n",
    "    return inputs,simple_inputs,original_outputs"
   ]
  },
  {
   "cell_type": "markdown",
   "metadata": {},
   "source": [
    "# Integral Kernel\n",
    "\n",
    "I've called the kernel the 'integral kernel' as we use it when we know observations of the integrals of a function, and want to estimate the function itself.\n",
    "\n",
    "Examples include:\n",
    "\n",
    "- Knowing how far a robot has travelled after 2, 4, 6 and 8 seconds, but wanting an estimate of its speed after 5 seconds (use the `Integral` kernel)\n",
    "- Wanting to know an estimate of the density of people aged 23, when we only have the total count for binned age ranges (use the `Integral_Limits` kernel)\n",
    "- Wanting to estimate the weight distribution from a set of child, for a child of 5 years, with a height of 90cm, given data binned into a 3d table (using the `Multidimensional_Integral_Limits` kernel).\n",
    "\n",
    "It should be noted that all three examples can be solved with the `Multidimensional_Integral_Limits` kernel. It might be worth, in the future, removing the other two kernels, to simplify the codebase.\n",
    "\n",
    "## Speed of robot\n",
    "\n",
    "This is the most simple example. For this example we use the `Integral` kernel.\n",
    "\n",
    "We don't know this, but the robot is accelerating at a constant $\\mathtt{1\\; ms}^{-2}$, from stationary at $t=0$. We do know that after two seconds it had travelled two metres, after four seconds it had travelled eight metres, and after six and eight seconds it had travelled 18 and 32 metres respectively. The questions is: How fast was it going after five seconds?"
   ]
  },
  {
   "cell_type": "code",
   "execution_count": 3,
   "metadata": {
    "collapsed": false
   },
   "outputs": [
    {
     "name": "stdout",
     "output_type": "stream",
     "text": [
      "After 5 seconds the robot was travelling at 5.00 m/s\n"
     ]
    }
   ],
   "source": [
    "#the observations\n",
    "times   =   np.array([2.0,4.0, 6.0, 8.0])[:,None]\n",
    "distances = np.array([2.0,8.0,18.0,32.0])[:,None]\n",
    "\n",
    "#model configuration\n",
    "kernel = GPy.kern.Integral(input_dim=1,variances=10.0)\n",
    "m = GPy.models.GPRegression(times,distances,kernel)\n",
    "m.optimize()\n",
    "#m.plot_f()\n",
    "\n",
    "#prediction for after five seconds\n",
    "(speed, var) = m.predict_noiseless(np.array([[5.0]]))\n",
    "print(\"After 5 seconds the robot was travelling at %0.2f m/s\" % speed);"
   ]
  },
  {
   "cell_type": "markdown",
   "metadata": {},
   "source": [
    "## Ages of people living in Kelham island: Probability density of being 23\n",
    "\n",
    "In this example we are given some binned histogram data: We know that between the ages of zero and ten there are 19 children, between 11 and 20 there are 52, etc."
   ]
  },
  {
   "cell_type": "code",
   "execution_count": 4,
   "metadata": {
    "collapsed": false
   },
   "outputs": [
    {
     "name": "stdout",
     "output_type": "stream",
     "text": [
      "[[ 10   0]\n",
      " [ 20  10]\n",
      " [ 30  20]\n",
      " [ 40  30]\n",
      " [ 60  40]\n",
      " [100  60]]\n"
     ]
    },
    {
     "data": {
      "text/plain": [
       "(0, 15)"
      ]
     },
     "execution_count": 4,
     "metadata": {},
     "output_type": "execute_result"
    },
    {
     "data": {
      "image/png": "[encoded data removed]",
      "text/plain": [
       "<matplotlib.figure.Figure at 0x7fac7edb8e10>"
      ]
     },
     "metadata": {},
     "output_type": "display_data"
    }
   ],
   "source": [
    "import numpy as np\n",
    "bins = np.array([19,52,114,45,22,20])[None,:]\n",
    "bin_ranges = np.array([0,10,20,30,40,60,100])\n",
    "\n",
    "#The domain of each bin is set by pairs of values in the first two dimensions (see output).\n",
    "#These could overlap!\n",
    "X=np.vstack([bin_ranges[1:],bin_ranges[0:-1]]).T\n",
    "print(X)\n",
    "Y = bins.T\n",
    "\n",
    "kernel = GPy.kern.Integral_Limits(input_dim=2, variances=0.1, lengthscale=10.0)\n",
    "m = GPy.models.GPRegression(X,Y,kernel)\n",
    "m.Gaussian_noise=0.001\n",
    "m.optimize()\n",
    "\n",
    "Xtest = np.arange(0,100,1.0) #for plotting\n",
    "Xpred = np.array([Xtest,np.zeros(len(Xtest))])\n",
    "Ypred,YpredCov = m.predict_noiseless(Xpred.T)\n",
    "SE = np.sqrt(YpredCov)\n",
    "\n",
    "plot_hist(bins.T,bin_ranges,0,alpha=0.2)\n",
    "plt.plot(Xtest,Ypred,'r-',label='Mean')\n",
    "plt.plot(Xtest,Ypred+SE*1.96,'r:',label='95% CI')\n",
    "plt.plot(Xtest,Ypred-SE*1.96,'r:')\n",
    "plt.title('Population density of people of different ages')\n",
    "plt.xlabel('Age')\n",
    "plt.ylabel('Density (Frequency)')\n",
    "plt.ylim([0,15])"
   ]
  },
  {
   "cell_type": "markdown",
   "metadata": {},
   "source": [
    "## Predicted range of weights of a child\n",
    "\n",
    "I'm quickly generating some example data to illustrate the integral kernel over multiple dimensions."
   ]
  },
  {
   "cell_type": "code",
   "execution_count": 5,
   "metadata": {
    "collapsed": true
   },
   "outputs": [],
   "source": [
    "#generate 100 simulated children heights, weights and ages.\n",
    "Nchildren = 100\n",
    "ages = np.random.random(Nchildren)*3.0+3.0 #ages 3 to 6\n",
    "heights = 70 + ages * 7.0\n",
    "weights = 9.0 + (heights-70)*0.2\n",
    "weights += np.random.normal(0,0.3,weights.shape)\n",
    "heights += np.random.normal(0,3,weights.shape)\n",
    "ages += np.random.normal(0,0.3,weights.shape)\n",
    "\n",
    "#group into a histogram (this is often the sort of data we'll actually have)\n",
    "spacing_age = 1.0\n",
    "spacing_height = 5.0\n",
    "area = spacing_age * spacing_height\n",
    "inputs, simple_inputs, outputs = histogram_data(ages,heights,weights,spacing_age,spacing_height)"
   ]
  },
  {
   "cell_type": "code",
   "execution_count": 6,
   "metadata": {
    "collapsed": false
   },
   "outputs": [
    {
     "name": "stdout",
     "output_type": "stream",
     "text": [
      "            Age Range   Height Range   Average Weight (rounded)\n"
     ]
    },
    {
     "data": {
      "text/plain": [
       "array([[   2.5,    3.5,   85. ,   90. ,   13. ],\n",
       "       [   2.5,    3.5,   90. ,   95. ,   14. ],\n",
       "       [   2.5,    3.5,   95. ,  100. ,   14. ],\n",
       "       [   2.5,    3.5,  100. ,  105. ,   14. ],\n",
       "       [   3.5,    4.5,   85. ,   90. ,   14. ],\n",
       "       [   3.5,    4.5,   90. ,   95. ,   14. ],\n",
       "       [   3.5,    4.5,   95. ,  100. ,   15. ],\n",
       "       [   3.5,    4.5,  100. ,  105. ,   15. ],\n",
       "       [   3.5,    4.5,  105. ,  110. ,   16. ],\n",
       "       [   4.5,    5.5,   90. ,   95. ,   15. ],\n",
       "       [   4.5,    5.5,   95. ,  100. ,   15. ],\n",
       "       [   4.5,    5.5,  100. ,  105. ,   16. ],\n",
       "       [   4.5,    5.5,  105. ,  110. ,   16. ],\n",
       "       [   4.5,    5.5,  110. ,  115. ,   16. ],\n",
       "       [   5.5,    6.5,  100. ,  105. ,   17. ],\n",
       "       [   5.5,    6.5,  105. ,  110. ,   17. ],\n",
       "       [   5.5,    6.5,  110. ,  115. ,   17. ]])"
      ]
     },
     "execution_count": 6,
     "metadata": {},
     "output_type": "execute_result"
    }
   ],
   "source": [
    "print(\"            Age Range   Height Range   Average Weight (rounded)\")\n",
    "np.hstack([inputs,np.round(outputs[:,None])])"
   ]
  },
  {
   "cell_type": "markdown",
   "metadata": {},
   "source": [
    "We now have a set of "
   ]
  },
  {
   "cell_type": "code",
   "execution_count": 7,
   "metadata": {
    "collapsed": true
   },
   "outputs": [],
   "source": [
    "outputmean = np.mean(outputs)\n",
    "outputs -= outputmean"
   ]
  },
  {
   "cell_type": "code",
   "execution_count": 8,
   "metadata": {
    "collapsed": true
   },
   "outputs": [],
   "source": [
    "#we have twice as many dimensions as the actual data as each\n",
    "#pair of dimensions is used to specify one dimension in the domain of each bin.\n",
    "#the input matrix above is used, so dimension 0 and 1 specify the start\n",
    "#and end of each bin in the 'age' direction. etc...\n",
    "kernel = GPy.kern.Multidimensional_Integral_Limits(input_dim=4, variances=1.0, lengthscale=[8.0,4.0])\n",
    "m = GPy.models.GPRegression(1.0*inputs,1.0*area*outputs[:,None],kernel)\n",
    "m.optimize()"
   ]
  },
  {
   "cell_type": "code",
   "execution_count": 9,
   "metadata": {
    "collapsed": false
   },
   "outputs": [
    {
     "data": {
      "text/plain": [
       "<matplotlib.text.Text at 0x7fac7bdf0250>"
      ]
     },
     "execution_count": 9,
     "metadata": {},
     "output_type": "execute_result"
    },
    {
     "data": {
      "image/png": "[encoded data removed]",
      "text/plain": [
       "<matplotlib.figure.Figure at 0x7fac7c370dd0>"
      ]
     },
     "metadata": {},
     "output_type": "display_data"
    }
   ],
   "source": [
    "\n",
    "a = 4.0\n",
    "h = 100.0\n",
    "Xpred = []\n",
    "test_heights = range(70,140)\n",
    "for h in test_heights:\n",
    "    Xpred.append([a,0,h,0])\n",
    "Xpred = np.array(Xpred)\n",
    "weight, err = m.predict_noiseless(Xpred)\n",
    "plt.plot(test_heights,weight+outputmean)\n",
    "plt.plot(test_heights,weight+outputmean+np.sqrt(err),':')\n",
    "plt.plot(test_heights,weight+outputmean-np.sqrt(err),':')\n",
    "plt.xlabel('Height / cm')\n",
    "plt.ylabel('Weight / kg')\n",
    "plt.title('Results from Children Age, Height, Weight simulation')"
   ]
  },
  {
   "cell_type": "markdown",
   "metadata": {},
   "source": [
    "The above curve is based on the histogram 'binned' data."
   ]
  },
  {
   "cell_type": "code",
   "execution_count": null,
   "metadata": {
    "collapsed": true
   },
   "outputs": [],
   "source": []
  }
 ],
 "metadata": {
  "kernelspec": {
   "display_name": "Python 2",
   "language": "python",
   "name": "python2"
  },
  "language_info": {
   "codemirror_mode": {
    "name": "ipython",
    "version": 2
   },
   "file_extension": ".py",
   "mimetype": "text/x-python",
   "name": "python",
   "nbconvert_exporter": "python",
   "pygments_lexer": "ipython2",
   "version": "2.7.11"
  }
 },
 "nbformat": 4,
 "nbformat_minor": 0
}
